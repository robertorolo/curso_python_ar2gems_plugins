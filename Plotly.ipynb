{
 "cells": [
  {
   "cell_type": "code",
   "execution_count": null,
   "metadata": {},
   "outputs": [],
   "source": [
    "import numpy as np"
   ]
  },
  {
   "cell_type": "markdown",
   "metadata": {},
   "source": [
    "# Jupyter notebook"
   ]
  },
  {
   "cell_type": "markdown",
   "metadata": {},
   "source": [
    "The well known Pythagorean theorem $$x^2 + y^2 = z^2$$ was \n",
    "proved to be invalid for other exponents. \n",
    "Meaning the next equation has no integer solutions:\n",
    " \n",
    "$$x^n + y^n = z^n$$"
   ]
  },
  {
   "cell_type": "markdown",
   "metadata": {},
   "source": [
    "# Plotly"
   ]
  },
  {
   "cell_type": "code",
   "execution_count": null,
   "metadata": {},
   "outputs": [],
   "source": []
  },
  {
   "cell_type": "code",
   "execution_count": null,
   "metadata": {},
   "outputs": [],
   "source": [
    "#import plotly.offline as py\n",
    "import plotly.graph_objs as go\n",
    "from plotly.offline import init_notebook_mode, iplot\n",
    "init_notebook_mode(connected=True)"
   ]
  },
  {
   "cell_type": "code",
   "execution_count": null,
   "metadata": {},
   "outputs": [],
   "source": [
    "trace = go.Scatter(x=[1,2,3], y=[4,5,6])\n",
    "layout=go.Layout(title=\"Primeiro plot com plotly\", xaxis={'title':'x1'}, yaxis={'title':'x2'})\n",
    "figure=go.Figure(data=[trace],layout=layout)\n",
    "iplot(figure)"
   ]
  },
  {
   "cell_type": "code",
   "execution_count": null,
   "metadata": {},
   "outputs": [],
   "source": [
    "trace1 = go.Scatter(x=[1,2,3], y=[4,5,6])\n",
    "trace2 = go.Scatter(x=[6,5,2], y=[3,2,1])\n",
    "layout=go.Layout(title=\"Segundo plot com plotly\", xaxis={'title':'x1'}, yaxis={'title':'x2'})\n",
    "figure=go.Figure(data=[trace1, trace2],layout=layout)\n",
    "iplot(figure)"
   ]
  },
  {
   "cell_type": "code",
   "execution_count": null,
   "metadata": {},
   "outputs": [],
   "source": [
    "x = np.linspace(0,50,30)\n",
    "y = x ** 2\n",
    "trace = go.Scatter(x=x, y=y)\n",
    "layout=go.Layout(title=\"Terceiro plot com plotly\", xaxis={'title':'x1'}, yaxis={'title':'x2'})\n",
    "figure=go.Figure(data=[trace],layout=layout)\n",
    "iplot(figure)"
   ]
  },
  {
   "cell_type": "code",
   "execution_count": null,
   "metadata": {},
   "outputs": [],
   "source": [
    "x = np.linspace(0,50,30)\n",
    "y = x ** 2\n",
    "trace1 = go.Scatter(x=x, y=y)\n",
    "x1 = np.linspace(0,50,30)\n",
    "y1 = x1 ** 2.5\n",
    "trace2 = go.Scatter(x=x1, y=y1)\n",
    "layout=go.Layout(title=\"Terceiro plot com plotly\", xaxis={'title':'x1'}, yaxis={'title':'x2'})\n",
    "figure=go.Figure(data=[trace1, trace2],layout=layout)\n",
    "iplot(figure)"
   ]
  },
  {
   "cell_type": "markdown",
   "metadata": {},
   "source": [
    "# Imprtando o jura com pandas"
   ]
  },
  {
   "cell_type": "code",
   "execution_count": null,
   "metadata": {},
   "outputs": [],
   "source": [
    "import pandas as pd"
   ]
  },
  {
   "cell_type": "code",
   "execution_count": null,
   "metadata": {},
   "outputs": [],
   "source": [
    "jura = pd.read_csv('jura.csv')"
   ]
  },
  {
   "cell_type": "code",
   "execution_count": null,
   "metadata": {},
   "outputs": [],
   "source": [
    "jura.head()"
   ]
  },
  {
   "cell_type": "markdown",
   "metadata": {},
   "source": [
    "## Histograma"
   ]
  },
  {
   "cell_type": "code",
   "execution_count": null,
   "metadata": {},
   "outputs": [],
   "source": [
    "trace = go.Histogram(x=jura.Cr)\n",
    "layout=go.Layout(title=\"Histograma\")\n",
    "figure=go.Figure(data=[trace],layout=layout)\n",
    "iplot(figure)"
   ]
  },
  {
   "cell_type": "markdown",
   "metadata": {},
   "source": [
    "# Boxplot"
   ]
  },
  {
   "cell_type": "code",
   "execution_count": null,
   "metadata": {},
   "outputs": [],
   "source": [
    "trace1 = go.Box(y=jura[jura.Rock == 1].Cr)\n",
    "trace2 = go.Box(y=jura[jura.Rock == 2].Cr)\n",
    "layout=go.Layout(title=\"Boxplot\")\n",
    "figure=go.Figure(data=[trace1, trace2],layout=layout)\n",
    "iplot(figure)"
   ]
  },
  {
   "cell_type": "markdown",
   "metadata": {},
   "source": [
    "# Scatterplot"
   ]
  },
  {
   "cell_type": "code",
   "execution_count": null,
   "metadata": {},
   "outputs": [],
   "source": [
    "trace = go.Scatter(x=jura.Cr, y=jura.Co,  mode = 'markers')\n",
    "layout=go.Layout(title=\"Scatter 2d\")\n",
    "figure=go.Figure(data=[trace],layout=layout)\n",
    "iplot(figure)"
   ]
  },
  {
   "cell_type": "code",
   "execution_count": null,
   "metadata": {},
   "outputs": [],
   "source": [
    "trace = go.Scatter(x=jura.Pb, y=jura.Zn,  mode = 'markers', marker=dict(color = jura.Rock, colorscale='Jet'))\n",
    "layout=go.Layout(title=\"Scatter 2d\", yaxis=dict(scaleanchor=\"x\", scaleratio=1))\n",
    "figure=go.Figure(data=[trace],layout=layout)\n",
    "iplot(figure)"
   ]
  },
  {
   "cell_type": "code",
   "execution_count": null,
   "metadata": {},
   "outputs": [],
   "source": [
    "trace = go.Scatter(x=jura.Xloc, y=jura.Yloc,  mode = 'markers', marker=dict(color = jura.Cr, colorscale='Jet',showscale=True))\n",
    "layout=go.Layout(title=\"Cr locmap\", yaxis=dict(scaleanchor=\"x\", scaleratio=1))\n",
    "figure=go.Figure(data=[trace],layout=layout)\n",
    "iplot(figure)"
   ]
  },
  {
   "cell_type": "code",
   "execution_count": null,
   "metadata": {},
   "outputs": [],
   "source": [
    "trace = go.Scatter3d(x=jura.Cr, y=jura.Co, z=jura.Cu,  mode = 'markers', marker=dict(size=6, color = jura.Rock, colorscale='Jet'))\n",
    "layout=go.Layout(title=\"Scatter 3d\")\n",
    "figure=go.Figure(data=[trace],layout=layout)\n",
    "iplot(figure)"
   ]
  },
  {
   "cell_type": "markdown",
   "metadata": {},
   "source": [
    "# Correlation matrix"
   ]
  },
  {
   "cell_type": "code",
   "execution_count": null,
   "metadata": {},
   "outputs": [],
   "source": [
    "variables = ['Cd', 'Co', 'Cr', 'Cu', 'Ni', 'Pb', 'Zn']\n",
    "var_mat = jura[variables].values.T"
   ]
  },
  {
   "cell_type": "code",
   "execution_count": null,
   "metadata": {},
   "outputs": [],
   "source": [
    "corr_mat = np.corrcoef(var_mat)"
   ]
  },
  {
   "cell_type": "code",
   "execution_count": null,
   "metadata": {},
   "outputs": [],
   "source": [
    "trace = go.Heatmap(z=corr_mat, x=variables, y=variables)\n",
    "layout=go.Layout(title=\"Corrmatrix\",width=500, height=500)\n",
    "figure=go.Figure(data=[trace],layout=layout)\n",
    "iplot(figure)"
   ]
  }
 ],
 "metadata": {
  "kernelspec": {
   "display_name": "Python 3",
   "language": "python",
   "name": "python3"
  },
  "language_info": {
   "codemirror_mode": {
    "name": "ipython",
    "version": 3
   },
   "file_extension": ".py",
   "mimetype": "text/x-python",
   "name": "python",
   "nbconvert_exporter": "python",
   "pygments_lexer": "ipython3",
   "version": "3.6.4"
  }
 },
 "nbformat": 4,
 "nbformat_minor": 2
}
